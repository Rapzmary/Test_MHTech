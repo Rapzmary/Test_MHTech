{
 "cells": [
  {
   "cell_type": "code",
   "execution_count": null,
   "id": "969969ec",
   "metadata": {},
   "outputs": [],
   "source": []
  },
  {
   "cell_type": "code",
   "execution_count": null,
   "id": "7af2aaca",
   "metadata": {},
   "outputs": [],
   "source": []
  },
  {
   "cell_type": "code",
   "execution_count": 228,
   "id": "234d6ed3",
   "metadata": {},
   "outputs": [],
   "source": [
    "import requests"
   ]
  },
  {
   "cell_type": "code",
   "execution_count": 229,
   "id": "670aaf7d",
   "metadata": {},
   "outputs": [],
   "source": [
    "path1 = 'http://127.0.0.1:8000/register/'"
   ]
  },
  {
   "cell_type": "code",
   "execution_count": 230,
   "id": "39fdeb52",
   "metadata": {},
   "outputs": [],
   "source": [
    "signup = {'email':'test@testmail.com','password':'test123','firstname':'test','lastname':'posttest','date_of_birth': \"10/01/2022\"}"
   ]
  },
  {
   "cell_type": "code",
   "execution_count": 231,
   "id": "426e5708",
   "metadata": {},
   "outputs": [],
   "source": [
    "siguprequest=requests.post(path1,signup)"
   ]
  },
  {
   "cell_type": "code",
   "execution_count": 232,
   "id": "429591d4",
   "metadata": {},
   "outputs": [
    {
     "data": {
      "text/plain": [
       "{'message': 'Regiter success'}"
      ]
     },
     "execution_count": 232,
     "metadata": {},
     "output_type": "execute_result"
    }
   ],
   "source": [
    "siguprequest.json()"
   ]
  },
  {
   "cell_type": "code",
   "execution_count": 233,
   "id": "1fa96695",
   "metadata": {},
   "outputs": [],
   "source": [
    "path2 = 'http://127.0.0.1:8000/login/'"
   ]
  },
  {
   "cell_type": "code",
   "execution_count": 234,
   "id": "55c99de9",
   "metadata": {},
   "outputs": [],
   "source": [
    "login = {'email':'test@testmail.com','password':'test123'}"
   ]
  },
  {
   "cell_type": "code",
   "execution_count": 235,
   "id": "bb4f8023",
   "metadata": {},
   "outputs": [],
   "source": [
    "loginrequest=requests.post(path2,login)"
   ]
  },
  {
   "cell_type": "code",
   "execution_count": 236,
   "id": "f5a948aa",
   "metadata": {},
   "outputs": [],
   "source": [
    "c=loginrequest.json()"
   ]
  },
  {
   "cell_type": "code",
   "execution_count": 237,
   "id": "ff5fdd20",
   "metadata": {},
   "outputs": [
    {
     "data": {
      "text/plain": [
       "{'message': 'Login success',\n",
       " 'Token': '7465737440746573746d61696c2e636f6d20576564204e6f762031362031363a35323a33372032303232'}"
      ]
     },
     "execution_count": 237,
     "metadata": {},
     "output_type": "execute_result"
    }
   ],
   "source": [
    "c"
   ]
  },
  {
   "cell_type": "code",
   "execution_count": 238,
   "id": "64be6033",
   "metadata": {},
   "outputs": [],
   "source": [
    "v=c['Token']"
   ]
  },
  {
   "cell_type": "code",
   "execution_count": null,
   "id": "12317622",
   "metadata": {},
   "outputs": [],
   "source": []
  },
  {
   "cell_type": "code",
   "execution_count": 239,
   "id": "a54b483c",
   "metadata": {},
   "outputs": [
    {
     "data": {
      "text/plain": [
       "'7465737440746573746d61696c2e636f6d20576564204e6f762031362031363a35323a33372032303232'"
      ]
     },
     "execution_count": 239,
     "metadata": {},
     "output_type": "execute_result"
    }
   ],
   "source": [
    " v"
   ]
  },
  {
   "cell_type": "code",
   "execution_count": 240,
   "id": "ea7d1c9e",
   "metadata": {},
   "outputs": [],
   "source": [
    "path3 = 'http://127.0.0.1:8000/suggest-booking/'"
   ]
  },
  {
   "cell_type": "code",
   "execution_count": 241,
   "id": "7dc43eb7",
   "metadata": {},
   "outputs": [],
   "source": [
    "cal = {'Authorization':v,'seat':4}"
   ]
  },
  {
   "cell_type": "code",
   "execution_count": 242,
   "id": "a6e8c00a",
   "metadata": {},
   "outputs": [],
   "source": [
    "calrequest=requests.post(path3,cal)"
   ]
  },
  {
   "cell_type": "code",
   "execution_count": 243,
   "id": "c30f56a3",
   "metadata": {},
   "outputs": [
    {
     "data": {
      "text/plain": [
       "<Response [200]>"
      ]
     },
     "execution_count": 243,
     "metadata": {},
     "output_type": "execute_result"
    }
   ],
   "source": [
    "calrequest"
   ]
  },
  {
   "cell_type": "code",
   "execution_count": 244,
   "id": "bd4a96d4",
   "metadata": {},
   "outputs": [],
   "source": [
    "b=calrequest.json()"
   ]
  },
  {
   "cell_type": "code",
   "execution_count": 245,
   "id": "412a7c8e",
   "metadata": {},
   "outputs": [
    {
     "data": {
      "text/plain": [
       "{'message': [['C1', 'C2', 'C3', 'C4'],\n",
       "  ['C3', 'C4', 'C5', 'C6'],\n",
       "  ['D5', 'D6', 'D7', 'D8']]}"
      ]
     },
     "execution_count": 245,
     "metadata": {},
     "output_type": "execute_result"
    }
   ],
   "source": [
    "b"
   ]
  },
  {
   "cell_type": "code",
   "execution_count": null,
   "id": "345e37b0",
   "metadata": {},
   "outputs": [],
   "source": []
  }
 ],
 "metadata": {
  "kernelspec": {
   "display_name": "Python 3 (ipykernel)",
   "language": "python",
   "name": "python3"
  },
  "language_info": {
   "codemirror_mode": {
    "name": "ipython",
    "version": 3
   },
   "file_extension": ".py",
   "mimetype": "text/x-python",
   "name": "python",
   "nbconvert_exporter": "python",
   "pygments_lexer": "ipython3",
   "version": "3.9.12"
  }
 },
 "nbformat": 4,
 "nbformat_minor": 5
}
